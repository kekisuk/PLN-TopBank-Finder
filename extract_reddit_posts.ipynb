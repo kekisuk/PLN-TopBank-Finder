{
 "cells": [
  {
   "cell_type": "code",
   "execution_count": null,
   "metadata": {},
   "outputs": [],
   "source": [
    "import praw\n",
    "import csv\n",
    "import json\n",
    "import os\n",
    "from langdetect import detect\n",
    "import configparser"
   ]
  },
  {
   "cell_type": "code",
   "execution_count": null,
   "metadata": {},
   "outputs": [],
   "source": [
    "config = 'credentials\\config.txt'"
   ]
  },
  {
   "cell_type": "code",
   "execution_count": null,
   "metadata": {},
   "outputs": [],
   "source": [
    "client_id = 'WxnM0D5OdkUV_6SpUBuFSA'\n",
    "client_secret = 'rGaxtqBBlKxUZ-rS_TL2HDnTZLQkpg'\n",
    "user_agent = 'windows:kekisuk_coletor_red:v1.0 (by u/BigRemarkable4126)'"
   ]
  },
  {
   "cell_type": "code",
   "execution_count": null,
   "metadata": {},
   "outputs": [],
   "source": [
    "reddit = praw.Reddit(\n",
    "    client_id=client_id,\n",
    "    client_secret=client_secret,\n",
    "    user_agent=user_agent\n",
    ")"
   ]
  },
  {
   "cell_type": "markdown",
   "metadata": {},
   "source": [
    "Busca de posts escrito em português com a sintaxe \"melhor banco\" e seus comentarios"
   ]
  },
  {
   "cell_type": "code",
   "execution_count": null,
   "metadata": {},
   "outputs": [],
   "source": [
    "def is_portuguese(text):\n",
    "    try:\n",
    "        return detect(text) == 'pt'\n",
    "    except:\n",
    "        return False"
   ]
  },
  {
   "cell_type": "code",
   "execution_count": null,
   "metadata": {},
   "outputs": [
    {
     "name": "stdout",
     "output_type": "stream",
     "text": [
      "Subreddit: investimentos | Título: melhor banco para receber dinheiro em dolar? | Upvotes: 2 | Comentários: 6\n",
      "Subreddit: empreendedorismo | Título: Melhor banco PJ pra receber pagamentos internacionais? | Upvotes: 3 | Comentários: 23\n",
      "Subreddit: MedicinaBrasil | Título: Melhor banco de questões para residência? | Upvotes: 14 | Comentários: 21\n",
      "Subreddit: financaspessoais | Título: Qual o melhor banco? | Upvotes: 13 | Comentários: 22\n",
      "Subreddit: investimentos | Título: O melhor banco atualmente é o BTG?Vale a pena eu imigrar do Inter para ele? | Upvotes: 5 | Comentários: 43\n",
      "Subreddit: literaciafinanceira | Título: Melhor Banco 100% Digital? | Upvotes: 17 | Comentários: 49\n",
      "Subreddit: investimentos | Título: Qual melhor banco ultimamente? | Upvotes: 24 | Comentários: 66\n",
      "Subreddit: enem | Título: Qual melhor banco de questões que vc conhece ? | Upvotes: 3 | Comentários: 3\n",
      "Subreddit: portugueses | Título: Melhor banco em Portugal | Upvotes: 3 | Comentários: 7\n",
      "Subreddit: literaciafinanceira | Título: Qual é o melhor banco português para investir? | Upvotes: 2 | Comentários: 47\n",
      "Subreddit: CasualPT | Título: Qual é o melhor banco? | Upvotes: 3 | Comentários: 8\n",
      "Subreddit: investimentos | Título: Qual o melhor banco pra valores médios? | Upvotes: 7 | Comentários: 3\n",
      "Subreddit: literaciafinanceira | Título: Melhor banco para abrir conta aos 18 anos e poupar?\n",
      " | Upvotes: 12 | Comentários: 17\n"
     ]
    }
   ],
   "source": [
    "posts = []\n",
    "for post in reddit.subreddit(\"all\").search(\"melhor banco\", limit=1000, sort=\"hot\", time_filter=\"all\"):\n",
    "    if post.title and \"melhor banco\" in post.title.lower() and is_portuguese(post.title):\n",
    "        post.comments.replace_more(limit=0)\n",
    "        comments = []\n",
    "        \n",
    "        for comment in post.comments.list():\n",
    "            if is_portuguese(comment.body):  # Verifica se o comentário está em português\n",
    "                comments.append(comment.body)\n",
    "        \n",
    "        post_data = {\n",
    "            \"subreddit\": post.subreddit.display_name,\n",
    "            \"title\": post.title,\n",
    "            \"score\": post.score,\n",
    "            \"comments\": comments\n",
    "        }\n",
    "        posts.append(post_data)\n",
    "        print(f\"Subreddit: {post.subreddit.display_name} | Título: {post.title} | Upvotes: {post.score} | Comentários: {len(comments)}\")"
   ]
  },
  {
   "cell_type": "markdown",
   "metadata": {},
   "source": [
    "Passando dados coletados para uma estrutura json"
   ]
  },
  {
   "cell_type": "code",
   "execution_count": null,
   "metadata": {},
   "outputs": [
    {
     "name": "stdout",
     "output_type": "stream",
     "text": [
      "Dados salvos no arquivo c:\\Users\\kelen\\OneDrive\\Área de Trabalho\\analise_sentimento_texto\\discussion_best_banks.json.\n"
     ]
    }
   ],
   "source": [
    "current_directory = os.getcwd()\n",
    "file_path = os.path.join(current_directory, 'discussion_best_banks.json')\n",
    "\n",
    "with open(file_path, 'w', encoding='utf-8') as f:\n",
    "    json.dump(posts, f, ensure_ascii=False, indent=4)\n",
    "\n",
    "print(f\"Dados salvos no arquivo {file_path}.\")"
   ]
  }
 ],
 "metadata": {
  "kernelspec": {
   "display_name": "Python 3",
   "language": "python",
   "name": "python3"
  },
  "language_info": {
   "codemirror_mode": {
    "name": "ipython",
    "version": 3
   },
   "file_extension": ".py",
   "mimetype": "text/x-python",
   "name": "python",
   "nbconvert_exporter": "python",
   "pygments_lexer": "ipython3",
   "version": "3.10.0"
  }
 },
 "nbformat": 4,
 "nbformat_minor": 2
}
